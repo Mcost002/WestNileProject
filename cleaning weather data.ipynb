{
 "cells": [
  {
   "cell_type": "code",
   "execution_count": 6,
   "metadata": {
    "collapsed": true
   },
   "outputs": [],
   "source": [
    "import numpy as np\n",
    "import pandas as pd"
   ]
  },
  {
   "cell_type": "code",
   "execution_count": 35,
   "metadata": {
    "collapsed": true
   },
   "outputs": [],
   "source": [
    "weather = 'assets/weather.csv'"
   ]
  },
  {
   "cell_type": "code",
   "execution_count": 36,
   "metadata": {
    "collapsed": true
   },
   "outputs": [],
   "source": [
    "weather_data = pd.read_csv(weather)"
   ]
  },
  {
   "cell_type": "code",
   "execution_count": 37,
   "metadata": {},
   "outputs": [
    {
     "data": {
      "text/html": [
       "<div>\n",
       "<style>\n",
       "    .dataframe thead tr:only-child th {\n",
       "        text-align: right;\n",
       "    }\n",
       "\n",
       "    .dataframe thead th {\n",
       "        text-align: left;\n",
       "    }\n",
       "\n",
       "    .dataframe tbody tr th {\n",
       "        vertical-align: top;\n",
       "    }\n",
       "</style>\n",
       "<table border=\"1\" class=\"dataframe\">\n",
       "  <thead>\n",
       "    <tr style=\"text-align: right;\">\n",
       "      <th></th>\n",
       "      <th>Station</th>\n",
       "      <th>Date</th>\n",
       "      <th>Tmax</th>\n",
       "      <th>Tmin</th>\n",
       "      <th>Tavg</th>\n",
       "      <th>Depart</th>\n",
       "      <th>DewPoint</th>\n",
       "      <th>WetBulb</th>\n",
       "      <th>Heat</th>\n",
       "      <th>Cool</th>\n",
       "      <th>...</th>\n",
       "      <th>CodeSum</th>\n",
       "      <th>Depth</th>\n",
       "      <th>Water1</th>\n",
       "      <th>SnowFall</th>\n",
       "      <th>PrecipTotal</th>\n",
       "      <th>StnPressure</th>\n",
       "      <th>SeaLevel</th>\n",
       "      <th>ResultSpeed</th>\n",
       "      <th>ResultDir</th>\n",
       "      <th>AvgSpeed</th>\n",
       "    </tr>\n",
       "  </thead>\n",
       "  <tbody>\n",
       "    <tr>\n",
       "      <th>0</th>\n",
       "      <td>1</td>\n",
       "      <td>2007-05-01</td>\n",
       "      <td>83</td>\n",
       "      <td>50</td>\n",
       "      <td>67</td>\n",
       "      <td>14</td>\n",
       "      <td>51</td>\n",
       "      <td>56</td>\n",
       "      <td>0</td>\n",
       "      <td>2</td>\n",
       "      <td>...</td>\n",
       "      <td></td>\n",
       "      <td>0</td>\n",
       "      <td>M</td>\n",
       "      <td>0.0</td>\n",
       "      <td>0.00</td>\n",
       "      <td>29.10</td>\n",
       "      <td>29.82</td>\n",
       "      <td>1.7</td>\n",
       "      <td>27</td>\n",
       "      <td>9.2</td>\n",
       "    </tr>\n",
       "    <tr>\n",
       "      <th>1</th>\n",
       "      <td>2</td>\n",
       "      <td>2007-05-01</td>\n",
       "      <td>84</td>\n",
       "      <td>52</td>\n",
       "      <td>68</td>\n",
       "      <td>M</td>\n",
       "      <td>51</td>\n",
       "      <td>57</td>\n",
       "      <td>0</td>\n",
       "      <td>3</td>\n",
       "      <td>...</td>\n",
       "      <td></td>\n",
       "      <td>M</td>\n",
       "      <td>M</td>\n",
       "      <td>M</td>\n",
       "      <td>0.00</td>\n",
       "      <td>29.18</td>\n",
       "      <td>29.82</td>\n",
       "      <td>2.7</td>\n",
       "      <td>25</td>\n",
       "      <td>9.6</td>\n",
       "    </tr>\n",
       "    <tr>\n",
       "      <th>2</th>\n",
       "      <td>1</td>\n",
       "      <td>2007-05-02</td>\n",
       "      <td>59</td>\n",
       "      <td>42</td>\n",
       "      <td>51</td>\n",
       "      <td>-3</td>\n",
       "      <td>42</td>\n",
       "      <td>47</td>\n",
       "      <td>14</td>\n",
       "      <td>0</td>\n",
       "      <td>...</td>\n",
       "      <td>BR</td>\n",
       "      <td>0</td>\n",
       "      <td>M</td>\n",
       "      <td>0.0</td>\n",
       "      <td>0.00</td>\n",
       "      <td>29.38</td>\n",
       "      <td>30.09</td>\n",
       "      <td>13.0</td>\n",
       "      <td>4</td>\n",
       "      <td>13.4</td>\n",
       "    </tr>\n",
       "    <tr>\n",
       "      <th>3</th>\n",
       "      <td>2</td>\n",
       "      <td>2007-05-02</td>\n",
       "      <td>60</td>\n",
       "      <td>43</td>\n",
       "      <td>52</td>\n",
       "      <td>M</td>\n",
       "      <td>42</td>\n",
       "      <td>47</td>\n",
       "      <td>13</td>\n",
       "      <td>0</td>\n",
       "      <td>...</td>\n",
       "      <td>BR HZ</td>\n",
       "      <td>M</td>\n",
       "      <td>M</td>\n",
       "      <td>M</td>\n",
       "      <td>0.00</td>\n",
       "      <td>29.44</td>\n",
       "      <td>30.08</td>\n",
       "      <td>13.3</td>\n",
       "      <td>2</td>\n",
       "      <td>13.4</td>\n",
       "    </tr>\n",
       "    <tr>\n",
       "      <th>4</th>\n",
       "      <td>1</td>\n",
       "      <td>2007-05-03</td>\n",
       "      <td>66</td>\n",
       "      <td>46</td>\n",
       "      <td>56</td>\n",
       "      <td>2</td>\n",
       "      <td>40</td>\n",
       "      <td>48</td>\n",
       "      <td>9</td>\n",
       "      <td>0</td>\n",
       "      <td>...</td>\n",
       "      <td></td>\n",
       "      <td>0</td>\n",
       "      <td>M</td>\n",
       "      <td>0.0</td>\n",
       "      <td>0.00</td>\n",
       "      <td>29.39</td>\n",
       "      <td>30.12</td>\n",
       "      <td>11.7</td>\n",
       "      <td>7</td>\n",
       "      <td>11.9</td>\n",
       "    </tr>\n",
       "  </tbody>\n",
       "</table>\n",
       "<p>5 rows × 22 columns</p>\n",
       "</div>"
      ],
      "text/plain": [
       "   Station        Date  Tmax  Tmin Tavg Depart  DewPoint WetBulb Heat Cool  \\\n",
       "0        1  2007-05-01    83    50   67     14        51      56    0    2   \n",
       "1        2  2007-05-01    84    52   68      M        51      57    0    3   \n",
       "2        1  2007-05-02    59    42   51     -3        42      47   14    0   \n",
       "3        2  2007-05-02    60    43   52      M        42      47   13    0   \n",
       "4        1  2007-05-03    66    46   56      2        40      48    9    0   \n",
       "\n",
       "     ...    CodeSum Depth Water1 SnowFall PrecipTotal StnPressure SeaLevel  \\\n",
       "0    ...                0      M      0.0        0.00       29.10    29.82   \n",
       "1    ...                M      M        M        0.00       29.18    29.82   \n",
       "2    ...         BR     0      M      0.0        0.00       29.38    30.09   \n",
       "3    ...      BR HZ     M      M        M        0.00       29.44    30.08   \n",
       "4    ...                0      M      0.0        0.00       29.39    30.12   \n",
       "\n",
       "  ResultSpeed ResultDir  AvgSpeed  \n",
       "0         1.7        27       9.2  \n",
       "1         2.7        25       9.6  \n",
       "2        13.0         4      13.4  \n",
       "3        13.3         2      13.4  \n",
       "4        11.7         7      11.9  \n",
       "\n",
       "[5 rows x 22 columns]"
      ]
     },
     "execution_count": 37,
     "metadata": {},
     "output_type": "execute_result"
    }
   ],
   "source": [
    "weather_data.head()"
   ]
  },
  {
   "cell_type": "code",
   "execution_count": 38,
   "metadata": {
    "collapsed": true
   },
   "outputs": [],
   "source": [
    "weather_data['avg_temp'] = weather_data.Tavg.replace('M',np.nan)\n",
    "weather_data['rainfall']=weather_data.PrecipTotal.replace(['  T','M'],'0.00')\n",
    "weather_data['windspeed']=weather_data.AvgSpeed.replace('M', np.nan)"
   ]
  },
  {
   "cell_type": "code",
   "execution_count": 41,
   "metadata": {
    "scrolled": true
   },
   "outputs": [
    {
     "data": {
      "text/plain": [
       "25137.299999999977"
      ]
     },
     "execution_count": 41,
     "metadata": {},
     "output_type": "execute_result"
    }
   ],
   "source": [
    "weather_data.windspeed.sum()"
   ]
  },
  {
   "cell_type": "code",
   "execution_count": 40,
   "metadata": {
    "scrolled": false
   },
   "outputs": [
    {
     "data": {
      "text/plain": [
       "Station          int64\n",
       "Date            object\n",
       "Tmax             int64\n",
       "Tmin             int64\n",
       "Tavg            object\n",
       "Depart          object\n",
       "DewPoint         int64\n",
       "WetBulb         object\n",
       "Heat            object\n",
       "Cool            object\n",
       "Sunrise         object\n",
       "Sunset          object\n",
       "CodeSum         object\n",
       "Depth           object\n",
       "Water1          object\n",
       "SnowFall        object\n",
       "PrecipTotal     object\n",
       "StnPressure     object\n",
       "SeaLevel        object\n",
       "ResultSpeed    float64\n",
       "ResultDir        int64\n",
       "AvgSpeed        object\n",
       "avg_temp         int64\n",
       "rainfall       float64\n",
       "windspeed      float64\n",
       "dtype: object"
      ]
     },
     "execution_count": 40,
     "metadata": {},
     "output_type": "execute_result"
    }
   ],
   "source": [
    "weather_data.dropna(inplace=True)\n",
    "weather_data.avg_temp = pd.to_numeric(weather_data.avg_temp)\n",
    "weather_data.rainfall = pd.to_numeric(weather_data.rainfall)\n",
    "weather_data.windspeed = pd.to_numeric(weather_data.windspeed)\n",
    "weather_data.dtypes"
   ]
  },
  {
   "cell_type": "code",
   "execution_count": 42,
   "metadata": {
    "collapsed": true,
    "scrolled": true
   },
   "outputs": [],
   "source": [
    "all_weather = weather_data.groupby('Date').agg({'avg_temp':'mean', 'rainfall':'mean', 'windspeed':'mean'})"
   ]
  },
  {
   "cell_type": "code",
   "execution_count": 43,
   "metadata": {
    "collapsed": true
   },
   "outputs": [],
   "source": [
    "#all_weather = all_weather.sort_index\n",
    "for var in ['avg_temp', 'rainfall', 'windspeed']:\n",
    "    for i in range(1,8):\n",
    "        all_weather[var + str(i) + \"Days Before\"] = all_weather[var].shift(i)"
   ]
  },
  {
   "cell_type": "code",
   "execution_count": 44,
   "metadata": {
    "collapsed": true
   },
   "outputs": [],
   "source": [
    "all_weather['Last7Average_Temp'] = all_weather[all_weather.columns[3:10]].mean(axis=1)\n",
    "all_weather['Last7Average_Windspeed'] = all_weather[all_weather.columns[10:17]].sum(axis=1)\n",
    "all_weather['Last7Total_Rainfall'] = all_weather[all_weather.columns[17:24]].mean(axis=1)"
   ]
  },
  {
   "cell_type": "code",
   "execution_count": 45,
   "metadata": {
    "scrolled": true
   },
   "outputs": [
    {
     "data": {
      "text/plain": [
       "Index([u'rainfall', u'windspeed', u'avg_temp', u'avg_temp1Days Before',\n",
       "       u'avg_temp2Days Before', u'avg_temp3Days Before',\n",
       "       u'avg_temp4Days Before', u'avg_temp5Days Before',\n",
       "       u'avg_temp6Days Before', u'avg_temp7Days Before',\n",
       "       u'rainfall1Days Before', u'rainfall2Days Before',\n",
       "       u'rainfall3Days Before', u'rainfall4Days Before',\n",
       "       u'rainfall5Days Before', u'rainfall6Days Before',\n",
       "       u'rainfall7Days Before', u'windspeed1Days Before',\n",
       "       u'windspeed2Days Before', u'windspeed3Days Before',\n",
       "       u'windspeed4Days Before', u'windspeed5Days Before',\n",
       "       u'windspeed6Days Before', u'windspeed7Days Before',\n",
       "       u'Last7Average_Temp', u'Last7Average_Windspeed',\n",
       "       u'Last7Total_Rainfall'],\n",
       "      dtype='object')"
      ]
     },
     "execution_count": 45,
     "metadata": {},
     "output_type": "execute_result"
    }
   ],
   "source": [
    "all_weather.columns"
   ]
  },
  {
   "cell_type": "code",
   "execution_count": 49,
   "metadata": {
    "scrolled": true
   },
   "outputs": [],
   "source": [
    "all_weather2 = all_weather[['Last7Average_Temp', 'Last7Average_Windspeed','Last7Total_Rainfall']]\n",
    "all_weather2.to_csv('All_Weather2.csv')"
   ]
  },
  {
   "cell_type": "code",
   "execution_count": 18,
   "metadata": {
    "collapsed": true
   },
   "outputs": [],
   "source": [
    "all_weather.to_csv('All_Weather.csv')"
   ]
  },
  {
   "cell_type": "code",
   "execution_count": 20,
   "metadata": {
    "scrolled": true
   },
   "outputs": [
    {
     "data": {
      "text/plain": [
       "rainfall                  float64\n",
       "windspeed                 float64\n",
       "avg_temp                  float64\n",
       "avg_temp1Days Before      float64\n",
       "avg_temp2Days Before      float64\n",
       "avg_temp3Days Before      float64\n",
       "avg_temp4Days Before      float64\n",
       "avg_temp5Days Before      float64\n",
       "avg_temp6Days Before      float64\n",
       "avg_temp7Days Before      float64\n",
       "rainfall1Days Before      float64\n",
       "rainfall2Days Before      float64\n",
       "rainfall3Days Before      float64\n",
       "rainfall4Days Before      float64\n",
       "rainfall5Days Before      float64\n",
       "rainfall6Days Before      float64\n",
       "rainfall7Days Before      float64\n",
       "windspeed1Days Before     float64\n",
       "windspeed2Days Before     float64\n",
       "windspeed3Days Before     float64\n",
       "windspeed4Days Before     float64\n",
       "windspeed5Days Before     float64\n",
       "windspeed6Days Before     float64\n",
       "windspeed7Days Before     float64\n",
       "Last7Average_Temp         float64\n",
       "Last7Average_Windspeed    float64\n",
       "Last7Total_Rainfall       float64\n",
       "dtype: object"
      ]
     },
     "execution_count": 20,
     "metadata": {},
     "output_type": "execute_result"
    }
   ],
   "source": [
    "all_weather.dtypes"
   ]
  },
  {
   "cell_type": "code",
   "execution_count": 22,
   "metadata": {},
   "outputs": [
    {
     "name": "stdout",
     "output_type": "stream",
     "text": [
      "Missing Values \n",
      " \n",
      "rainfall                  0\n",
      "windspeed                 0\n",
      "avg_temp                  0\n",
      "avg_temp1Days Before      1\n",
      "avg_temp2Days Before      2\n",
      "avg_temp3Days Before      3\n",
      "avg_temp4Days Before      4\n",
      "avg_temp5Days Before      5\n",
      "avg_temp6Days Before      6\n",
      "avg_temp7Days Before      7\n",
      "rainfall1Days Before      1\n",
      "rainfall2Days Before      2\n",
      "rainfall3Days Before      3\n",
      "rainfall4Days Before      4\n",
      "rainfall5Days Before      5\n",
      "rainfall6Days Before      6\n",
      "rainfall7Days Before      7\n",
      "windspeed1Days Before     1\n",
      "windspeed2Days Before     2\n",
      "windspeed3Days Before     3\n",
      "windspeed4Days Before     4\n",
      "windspeed5Days Before     5\n",
      "windspeed6Days Before     6\n",
      "windspeed7Days Before     7\n",
      "Last7Average_Temp         1\n",
      "Last7Average_Windspeed    0\n",
      "Last7Total_Rainfall       1\n",
      "dtype: int64 \n",
      "\n",
      "Duplicate Rows \n",
      "0 \n",
      "\n",
      "Dataframe Types \n",
      " \n",
      "rainfall                  float64\n",
      "windspeed                 float64\n",
      "avg_temp                  float64\n",
      "avg_temp1Days Before      float64\n",
      "avg_temp2Days Before      float64\n",
      "avg_temp3Days Before      float64\n",
      "avg_temp4Days Before      float64\n",
      "avg_temp5Days Before      float64\n",
      "avg_temp6Days Before      float64\n",
      "avg_temp7Days Before      float64\n",
      "rainfall1Days Before      float64\n",
      "rainfall2Days Before      float64\n",
      "rainfall3Days Before      float64\n",
      "rainfall4Days Before      float64\n",
      "rainfall5Days Before      float64\n",
      "rainfall6Days Before      float64\n",
      "rainfall7Days Before      float64\n",
      "windspeed1Days Before     float64\n",
      "windspeed2Days Before     float64\n",
      "windspeed3Days Before     float64\n",
      "windspeed4Days Before     float64\n",
      "windspeed5Days Before     float64\n",
      "windspeed6Days Before     float64\n",
      "windspeed7Days Before     float64\n",
      "Last7Average_Temp         float64\n",
      "Last7Average_Windspeed    float64\n",
      "Last7Total_Rainfall       float64\n",
      "dtype: object \n",
      "\n",
      "Dataframe Shape \n",
      "(1472, 27) \n",
      "\n",
      "Dataframe Describe \n",
      " \n",
      "          rainfall    windspeed     avg_temp  avg_temp1Days Before  \\\n",
      "count  1472.000000  1472.000000  1472.000000           1471.000000   \n",
      "mean      0.131722     8.579178    67.222147             67.239973   \n",
      "std       0.359943     3.106804    10.513413             10.494712   \n",
      "min       0.000000     2.000000    36.000000             36.000000   \n",
      "25%       0.000000     6.300000    60.500000             60.500000   \n",
      "50%       0.000000     8.050000    69.000000             69.000000   \n",
      "75%       0.080000    10.362500    75.500000             75.500000   \n",
      "max       4.855000    23.850000    93.500000             93.500000   \n",
      "\n",
      "       avg_temp2Days Before  avg_temp3Days Before  avg_temp4Days Before  \\\n",
      "count           1470.000000           1469.000000           1468.000000   \n",
      "mean              67.256122             67.271954             67.278951   \n",
      "std               10.479983             10.465953             10.466082   \n",
      "min               36.000000             36.000000             36.000000   \n",
      "25%               60.500000             60.500000             60.500000   \n",
      "50%               69.000000             69.000000             69.000000   \n",
      "75%               75.500000             75.500000             75.500000   \n",
      "max               93.500000             93.500000             93.500000   \n",
      "\n",
      "       avg_temp5Days Before  avg_temp6Days Before  avg_temp7Days Before  \\\n",
      "count           1467.000000           1466.000000           1465.000000   \n",
      "mean              67.280164             67.289222             67.292491   \n",
      "std               10.469548             10.467367             10.470193   \n",
      "min               36.000000             36.000000             36.000000   \n",
      "25%               60.500000             60.500000             60.500000   \n",
      "50%               69.000000             69.000000             69.000000   \n",
      "75%               75.500000             75.500000             75.500000   \n",
      "max               93.500000             93.500000             93.500000   \n",
      "\n",
      "              ...           windspeed1Days Before  windspeed2Days Before  \\\n",
      "count         ...                     1471.000000            1470.000000   \n",
      "mean          ...                        8.569545               8.571293   \n",
      "std           ...                        3.085790               3.086111   \n",
      "min           ...                        2.000000               2.000000   \n",
      "25%           ...                        6.300000               6.300000   \n",
      "50%           ...                        8.050000               8.050000   \n",
      "75%           ...                       10.350000              10.350000   \n",
      "max           ...                       23.850000              23.850000   \n",
      "\n",
      "       windspeed3Days Before  windspeed4Days Before  windspeed5Days Before  \\\n",
      "count            1469.000000            1468.000000            1467.000000   \n",
      "mean                8.570694               8.566247               8.563054   \n",
      "std                 3.087077               3.083417               3.082040   \n",
      "min                 2.000000               2.000000               2.000000   \n",
      "25%                 6.300000               6.300000               6.300000   \n",
      "50%                 8.050000               8.050000               8.050000   \n",
      "75%                10.350000              10.350000              10.350000   \n",
      "max                23.850000              23.850000              23.850000   \n",
      "\n",
      "       windspeed6Days Before  windspeed7Days Before  Last7Average_Temp  \\\n",
      "count            1466.000000            1465.000000        1471.000000   \n",
      "mean                8.565075               8.563652          67.260676   \n",
      "std                 3.082119               3.082690           9.103046   \n",
      "min                 2.000000               2.000000          41.071429   \n",
      "25%                 6.300000               6.300000          60.321429   \n",
      "50%                 8.050000               8.050000          69.071429   \n",
      "75%                10.350000              10.350000          74.178571   \n",
      "max                23.850000              23.850000          87.500000   \n",
      "\n",
      "       Last7Average_Windspeed  Last7Total_Rainfall  \n",
      "count             1472.000000          1471.000000  \n",
      "mean                 0.921827             8.571988  \n",
      "std                  1.081157             1.654664  \n",
      "min                  0.000000             4.535714  \n",
      "25%                  0.180000             7.425000  \n",
      "50%                  0.597500             8.414286  \n",
      "75%                  1.286250             9.521429  \n",
      "max                  8.070000            14.714286  \n",
      "\n",
      "[8 rows x 27 columns] \n",
      "\n",
      "rainfall\n",
      "213\n",
      "windspeed\n",
      "357\n",
      "avg_temp\n",
      "104\n",
      "avg_temp1Days Before\n",
      "103\n",
      "avg_temp2Days Before\n",
      "102\n",
      "avg_temp3Days Before\n",
      "102\n",
      "avg_temp4Days Before\n",
      "102\n",
      "avg_temp5Days Before\n",
      "102\n",
      "avg_temp6Days Before\n",
      "102\n",
      "avg_temp7Days Before\n",
      "102\n",
      "rainfall1Days Before\n",
      "213\n",
      "rainfall2Days Before\n",
      "213\n",
      "rainfall3Days Before\n",
      "213\n",
      "rainfall4Days Before\n",
      "213\n",
      "rainfall5Days Before\n",
      "213\n",
      "rainfall6Days Before\n",
      "213\n",
      "rainfall7Days Before\n",
      "213\n",
      "windspeed1Days Before\n",
      "356\n",
      "windspeed2Days Before\n",
      "356\n",
      "windspeed3Days Before\n",
      "356\n",
      "windspeed4Days Before\n",
      "356\n",
      "windspeed5Days Before\n",
      "356\n",
      "windspeed6Days Before\n",
      "356\n",
      "windspeed7Days Before\n",
      "356\n",
      "Last7Average_Temp\n",
      "475\n",
      "Last7Average_Windspeed\n",
      "558\n",
      "Last7Total_Rainfall\n",
      "973\n"
     ]
    }
   ],
   "source": [
    "#Ritika EDA\n",
    "def eda(dataframe):\n",
    "    print \"Missing Values \\n \\n\", dataframe.isnull().sum(),\"\\n\" #find missing values\n",
    "    print \"Duplicate Rows \\n\", dataframe.duplicated().sum(),\"\\n\" #find duplicated values\n",
    "    print \"Dataframe Types \\n \\n\", dataframe.dtypes,\"\\n\" #datatypes of each column\n",
    "    print \"Dataframe Shape \\n\", dataframe.shape,\"\\n\" #number of rows and columns\n",
    "    print \"Dataframe Describe \\n \\n\", dataframe.describe(include='all'),\"\\n\" #Describe all columns\n",
    "    for feature in dataframe: # Prints unique values for each column \n",
    "        print feature\n",
    "        print dataframe[feature].nunique()\n",
    "eda(all_weather)"
   ]
  },
  {
   "cell_type": "code",
   "execution_count": null,
   "metadata": {
    "collapsed": true
   },
   "outputs": [],
   "source": []
  }
 ],
 "metadata": {
  "kernelspec": {
   "display_name": "Python 2",
   "language": "python",
   "name": "python2"
  },
  "language_info": {
   "codemirror_mode": {
    "name": "ipython",
    "version": 2
   },
   "file_extension": ".py",
   "mimetype": "text/x-python",
   "name": "python",
   "nbconvert_exporter": "python",
   "pygments_lexer": "ipython2",
   "version": "2.7.13"
  }
 },
 "nbformat": 4,
 "nbformat_minor": 2
}
